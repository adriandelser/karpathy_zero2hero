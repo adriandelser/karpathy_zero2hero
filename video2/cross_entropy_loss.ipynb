{
 "cells": [
  {
   "cell_type": "code",
   "execution_count": 11,
   "metadata": {},
   "outputs": [
    {
     "name": "stdout",
     "output_type": "stream",
     "text": [
      "torch.Size([10, 5])\n",
      "tensor([0.5451, 0.1717, 0.0334, 0.1464, 0.1331, 0.3710, 0.3098, 0.7518, 0.3667,\n",
      "        0.1056])\n",
      "Loss using F.cross_entropy: 1.5404256582260132\n",
      "Loss computed manually: 1.5404256582260132\n"
     ]
    }
   ],
   "source": [
    "import torch\n",
    "import torch.nn.functional as F\n",
    "\n",
    "# Dummy logits and targets\n",
    "logits = torch.randn(10, 5)  # Example with batch size 10 and 5 classes\n",
    "targets = torch.randint(0, 5, (10,))  # Random targets shape (10,)\n",
    "# print(targets)\n",
    "\n",
    "# Using F.cross_entropy\n",
    "loss_f_cross_entropy = F.cross_entropy(logits, targets)\n",
    "\n",
    "# Manually\n",
    "probabilities = F.softmax(logits, dim=1) #e^z/sum(e^z)\n",
    "print(probabilities.shape)\n",
    "targets_one_hot = F.one_hot(targets, num_classes=logits.size(1)).float()\n",
    "# loss_manual = -torch.sum(targets_one_hot * torch.log(probabilities)) / logits.size(0)\n",
    "loss_manual = -probabilities[torch.arange(logits.size(0)), targets].log().mean()\n",
    "print(probabilities[torch.arange(logits.size(0)), targets])\n",
    "print(\"Loss using F.cross_entropy:\", loss_f_cross_entropy.item())\n",
    "print(\"Loss computed manually:\", loss_manual.item())\n"
   ]
  },
  {
   "cell_type": "code",
   "execution_count": null,
   "metadata": {},
   "outputs": [],
   "source": []
  }
 ],
 "metadata": {
  "kernelspec": {
   "display_name": "Python 3",
   "language": "python",
   "name": "python3"
  },
  "language_info": {
   "codemirror_mode": {
    "name": "ipython",
    "version": 3
   },
   "file_extension": ".py",
   "mimetype": "text/x-python",
   "name": "python",
   "nbconvert_exporter": "python",
   "pygments_lexer": "ipython3",
   "version": "3.11.7"
  }
 },
 "nbformat": 4,
 "nbformat_minor": 2
}
